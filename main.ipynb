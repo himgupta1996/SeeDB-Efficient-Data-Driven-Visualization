{
 "cells": [
  {
   "cell_type": "markdown",
   "id": "cross-installation",
   "metadata": {},
   "source": [
    "## Imports"
   ]
  },
  {
   "cell_type": "code",
   "execution_count": 1,
   "id": "f9e59f30",
   "metadata": {},
   "outputs": [],
   "source": [
    "import psycopg2\n",
    "from psycopg2 import connect, OperationalError, errorcodes, errors\n",
    "import numpy as np\n",
    "import math\n",
    "import sys\n",
    "from collections import defaultdict"
   ]
  },
  {
   "cell_type": "markdown",
   "id": "organic-personality",
   "metadata": {},
   "source": [
    "## Setting up ENV and GLOBAL variables"
   ]
  },
  {
   "cell_type": "code",
   "execution_count": null,
   "id": "proprietary-killer",
   "metadata": {},
   "outputs": [],
   "source": [
    "\n",
    "dbname = \"census\"\n",
    "user = \"nightfury\"\n",
    "host = \"localhost\"\n",
    "password = \"\"\n",
    "db_relation = \"adult\"\n",
    "reference_dataset = db_relation\n",
    "target_dataset = \"target_dataset\"\n",
    "\n",
    "\n",
    "# measure_attributes=['age','fnlwgt', 'education_num','capital_gain','capital_loss','hours_per_week']\n",
    "# groupby_attributes=['workclass','education','occupation','relationship','race','sex','native_country','salary_range']\n",
    "# aggregate_functions=['sum','avg','max','min','count']\n",
    "\n",
    "measure_attributes=['age','capital_gain','hours_per_week']\n",
    "groupby_attributes=['workclass','relationship','sex']\n",
    "aggregate_functions=['avg','count']\n",
    "\n",
    "#Connecting with local db\n",
    "try:\n",
    "    conn = psycopg2.connect(f\"dbname='{dbname}' user='{user}' host='{host}' password='{password}'\")\n",
    "    cur = conn.cursor()\n",
    "    print (\"Connection to database successful\")\n",
    "except OperationalError as err:\n",
    "    print_psycopg2_exception(err)\n",
    "    conn = None\n",
    "\n",
    "#To get top k utility views\n",
    "K = 5"
   ]
  },
  {
   "cell_type": "markdown",
   "id": "technical-polyester",
   "metadata": {},
   "source": [
    "## Util functions"
   ]
  },
  {
   "cell_type": "code",
   "execution_count": null,
   "id": "painted-setting",
   "metadata": {},
   "outputs": [],
   "source": [
    "def print_psycopg2_exception(err):\n",
    "    # get details about the exception\n",
    "    err_type, err_obj, traceback = sys.exc_info()\n",
    "\n",
    "    # get the line number when exception occured\n",
    "    line_num = traceback.tb_lineno\n",
    "    \n",
    "    # print the connect() error\n",
    "    print (f\"\"\"\\npsycopg2 ERROR: {err} on linu number: {line_num}\"\"\")\n",
    "    print (f\"\"\"psycopg2 traceback: {traceback} -- type: {err_type}\"\"\")\n",
    "\n",
    "    # psycopg2 extensions.Diagnostics object attribute\n",
    "    print (f\"\"\"\\nextensions.Diagnostics: {err.diag}\"\"\")\n",
    "\n",
    "    # print the pgcode and pgerror exceptions\n",
    "    print (f\"\"\"pgerror: {err.pgerror}\"\"\")\n",
    "    print (f\"\"\"pgcode: {err.pgcode}\"\"\", \"\\n\")\n",
    "    \n",
    "def get_cursor(conn):\n",
    "    cur = conn.cursor()\n",
    "    return cur\n",
    "\n",
    "def get_all_views(groupby_attributes, measure_attributes, aggregate_functions):\n",
    "    views = np.array(np.meshgrid(groupby_attributes, measure_attributes, aggregate_functions)).T.reshape(-1,3)\n",
    "    return views\n",
    "\n",
    "def basic_query_generator(groupby_attribute, measure_attribute, aggregate_function, target_relation, reference_relation):\n",
    "    target_query = f\"\"\"SELECT {groupby_attribute}, {aggregate_function}({measure_attribute}) FROM {target_relation} GROUP BY {groupby_attribute}\"\"\"\n",
    "    reference_query = f\"\"\"SELECT {groupby_attribute}, {aggregate_function}({measure_attribute}) FROM {reference_relation} GROUP BY {groupby_attribute}\"\"\"\n",
    "    return target_query, reference_query\n",
    "\n",
    "def phased_query_generator(groupby_attribute, measure_attribute, aggregate_function, target_relation, reference_relation, target_boundary, reference_boundary):\n",
    "    target_query = f\"\"\"SELECT {groupby_attribute}, {aggregate_function}({measure_attribute}) \n",
    "                        FROM (SELECT * from {target_relation} offset {target_boundary[0]} row fetch next {target_boundary[1]} rows only) as X  \n",
    "                        GROUP BY {groupby_attribute}\"\"\"\n",
    "    \n",
    "    reference_query = f\"\"\"SELECT {groupby_attribute}, {aggregate_function}({measure_attribute}) \n",
    "                        FROM (SELECT * from {reference_relation} offset {reference_boundary[0]} row fetch next {reference_boundary[1]} rows only) as X  \n",
    "                        GROUP BY {groupby_attribute}\"\"\"\n",
    "    \n",
    "    return target_query, reference_query\n",
    "\n",
    "def execute_get_query(cursor, query):\n",
    "    try:\n",
    "        cursor.execute(query)\n",
    "    except Exception as err:\n",
    "        print_psycopg2_exception(err)\n",
    "        conn = None\n",
    "        \n",
    "    rows = cursor.fetchall()\n",
    "    return rows\n",
    "\n",
    "def get_key_based_values(target_result, reference_result):\n",
    "    key_set = set()\n",
    "    target_result_dict = {}\n",
    "    reference_result_dict = {}\n",
    "    final_target_values = []\n",
    "    final_reference_values = []\n",
    "    \n",
    "    for key, value in target_result:\n",
    "        key_set.add(key)\n",
    "        target_result_dict[key] = float(value)\n",
    "        \n",
    "    for key, value in reference_result:\n",
    "        key_set.add(key)\n",
    "        reference_result_dict[key] = float(value)\n",
    "        \n",
    "    for key in key_set:\n",
    "        final_target_values.append(target_result_dict.get(key, float(10e-20)) if target_result_dict.get(key, float(10e-20)) != 0.0 else float(10e-20))\n",
    "        final_reference_values.append(reference_result_dict.get(key, float(10e-20)) if reference_result_dict.get(key, float(10e-20)) != 0.0 else float(10e-20))\n",
    "    \n",
    "    return final_target_values, final_reference_values\n",
    "\n",
    "def calculate_kl_divergence(vector1, vector2):\n",
    "    return sum(vector1[i] * math.log2(vector1[i]/vector2[i]) for i in range(len(vector1)))\n",
    "\n",
    "def basic_get_top_k_utility_views(kl_divergence_view_mapping_list, k):\n",
    "    top_k_views = [view for kl_divergence, view in sorted(kl_divergence_view_mapping_list)[0:k]]\n",
    "    return top_k_views\n",
    "\n",
    "def phased_get_top_k_utility_views(kl_divergence_view_mapping, k):\n",
    "    sorted_items = sorted(kl_divergence_view_mapping.items(), key=lambda kv: kv[1])[0:k]\n",
    "    return [item[0] for item in sorted_items]\n",
    "\n",
    "def get_phase_partitions(total_rows, phases):\n",
    "    return [total_rows // num_phases + (1 if x < total_rows % phases else 0) for x in range (phases)]\n"
   ]
  },
  {
   "cell_type": "markdown",
   "id": "located-pocket",
   "metadata": {},
   "source": [
    "## Getting user input and setting the target_db"
   ]
  },
  {
   "cell_type": "code",
   "execution_count": null,
   "id": "magnetic-dating",
   "metadata": {},
   "outputs": [],
   "source": [
    "#test_query = select * from adult where relationship =' Unmarried'; \n",
    "try:\n",
    "    query = input(\"Enter a SELECT query\")\n",
    "    #cur = get_cursor(conn)\n",
    "    cur.execute(f\"\"\"DROP table IF EXISTS {target_dataset};\"\"\")\n",
    "    print(f\"\"\"Target dataset create command: create table {target_dataset} as {query};\"\"\")\n",
    "    cur.execute(f\"\"\"create table {target_dataset} as {query};\"\"\")\n",
    "    conn.commit()\n",
    "except Exception as err:\n",
    "    print(\"Error in establishing target db\")\n",
    "    print_psycopg2_exception(err)\n",
    "    conn = None\n",
    "    \n",
    "print(f\"The reference dataset is {reference_dataset}\")"
   ]
  },
  {
   "cell_type": "markdown",
   "id": "pointed-luxury",
   "metadata": {},
   "source": [
    "## Get all views"
   ]
  },
  {
   "cell_type": "code",
   "execution_count": null,
   "id": "united-monte",
   "metadata": {},
   "outputs": [],
   "source": [
    "views = get_all_views(groupby_attributes, measure_attributes, aggregate_functions)"
   ]
  },
  {
   "cell_type": "markdown",
   "id": "permanent-bumper",
   "metadata": {},
   "source": [
    "## Basic Implementation"
   ]
  },
  {
   "cell_type": "code",
   "execution_count": null,
   "id": "inclusive-milan",
   "metadata": {},
   "outputs": [],
   "source": [
    "def basic_implementation(views):\n",
    "    kl_divergence_view_mapping_list = []\n",
    "    for groupby_attribute, measure_attribute, aggregate_function in views:\n",
    "        target_query, reference_query = basic_query_generator(groupby_attribute, measure_attribute, aggregate_function, target_dataset, reference_dataset)\n",
    "        target_result = execute_get_query(get_cursor(conn), target_query)\n",
    "        reference_result = execute_get_query(get_cursor(conn), reference_query)\n",
    "        target_values, reference_values = get_key_based_values(target_result, reference_result)        \n",
    "        kl_divergence = calculate_kl_divergence(target_values, reference_values)\n",
    "        kl_divergence_view_mapping_list.append((kl_divergence, (groupby_attribute, measure_attribute, aggregate_function)))\n",
    "    \n",
    "    return kl_divergence_view_mapping_list"
   ]
  },
  {
   "cell_type": "markdown",
   "id": "atmospheric-publicity",
   "metadata": {},
   "source": [
    "## Phased Implementation"
   ]
  },
  {
   "cell_type": "code",
   "execution_count": null,
   "id": "durable-generation",
   "metadata": {},
   "outputs": [],
   "source": [
    "def phased_implementation(views):\n",
    "    num_phases = 3\n",
    "    target_dataset_rows = execute_get_query(get_cursor(conn), f\"\"\"select count(*) from {target_dataset};\"\"\")[0][0]\n",
    "    reference_dataset_rows = execute_get_query(get_cursor(conn), f\"\"\"select count(*) from {reference_dataset};\"\"\")[0][0]\n",
    "    target_dataset_partitions = get_phase_partitions(target_dataset_rows, num_phases)\n",
    "    reference_dataset_partitions = get_phase_partitions(reference_dataset_rows, num_phases)\n",
    "\n",
    "    # 13, 33\n",
    "    # 13 -> 5, 4, 4 [1, 2, 3, 4, 5], [6, 7, 8, 9], [10, 11, 12, 13]\n",
    "    # 33 -> 11, 11, 11\n",
    "    target_start = reference_start = 0\n",
    "    kl_divergence_view_mapping = defaultdict(int)\n",
    "    for phase in range(num_phases):\n",
    "        target_offset = target_dataset_partitions[phase]\n",
    "        reference_offset = reference_dataset_partitions[phase]\n",
    "        for groupby_attribute, measure_attribute, aggregate_function in views:\n",
    "            target_query, reference_query = phased_query_generator(groupby_attribute, measure_attribute, \n",
    "                                                            aggregate_function, target_dataset, \n",
    "                                                            reference_dataset, [target_start, target_offset], \n",
    "                                                            [reference_start, reference_offset])\n",
    "            \n",
    "            target_result = execute_get_query(get_cursor(conn), target_query)\n",
    "            reference_result = execute_get_query(get_cursor(conn), reference_query)\n",
    "            target_values, reference_values = get_key_based_values(target_result, reference_result)\n",
    "            curr_kl_divergence = calculate_kl_divergence(target_values, reference_values)\n",
    "            kl_divergence_view_mapping[(groupby_attribute, measure_attribute, aggregate_function)] = (kl_divergence_view_mapping[(groupby_attribute, measure_attribute, aggregate_function)]*phase + curr_kl_divergence) / (phase + 1)\n",
    "            \n",
    "        target_start += target_offset\n",
    "        reference_start += reference_offset\n",
    "        \n",
    "    return kl_divergence_view_mapping"
   ]
  },
  {
   "cell_type": "markdown",
   "id": "induced-nelson",
   "metadata": {},
   "source": [
    "## Final Result"
   ]
  },
  {
   "cell_type": "code",
   "execution_count": null,
   "id": "nervous-distinction",
   "metadata": {},
   "outputs": [],
   "source": [
    "kl_divergence_view_mapping_list = basic_implementation(views)\n",
    "top_k_views = basic_get_top_k_utility_views(kl_divergence_view_mapping_list,  K)\n",
    "print(top_k_views)"
   ]
  },
  {
   "cell_type": "code",
   "execution_count": null,
   "id": "sitting-injection",
   "metadata": {},
   "outputs": [],
   "source": [
    "kl_divergence_view_mapping = phased_implementation(views)\n",
    "top_k_views = phased_get_top_k_utility_views(kl_divergence_view_mapping,  K)\n",
    "print(top_k_views)"
   ]
  }
 ],
 "metadata": {
  "kernelspec": {
   "display_name": "Python 3",
   "language": "python",
   "name": "python3"
  },
  "language_info": {
   "codemirror_mode": {
    "name": "ipython",
    "version": 3
   },
   "file_extension": ".py",
   "mimetype": "text/x-python",
   "name": "python",
   "nbconvert_exporter": "python",
   "pygments_lexer": "ipython3",
   "version": "3.9.12"
  }
 },
 "nbformat": 4,
 "nbformat_minor": 5
}
