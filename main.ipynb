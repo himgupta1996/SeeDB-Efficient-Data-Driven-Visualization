{
 "cells": [
  {
   "cell_type": "markdown",
   "id": "7f1e8b52",
   "metadata": {},
   "source": [
    "## Imports"
   ]
  },
  {
   "cell_type": "code",
   "execution_count": 67,
   "id": "f9e59f30",
   "metadata": {},
   "outputs": [],
   "source": [
    "import psycopg2\n",
    "import numpy as np\n",
    "import math"
   ]
  },
  {
   "cell_type": "markdown",
   "id": "73bd9274",
   "metadata": {},
   "source": [
    "## Setting up ENV and GLOBAL variables"
   ]
  },
  {
   "cell_type": "code",
   "execution_count": 99,
   "id": "6bd632d0",
   "metadata": {},
   "outputs": [],
   "source": [
    "\n",
    "dbname = \"census\"\n",
    "user = \"nightfury\"\n",
    "host = \"localhost\"\n",
    "password = \"\"\n",
    "db_relation = \"adult\"\n",
    "reference_dataset = db_relation\n",
    "target_dataset = \"target_dataset\"\n",
    "\n",
    "\n",
    "# measure_attributes=['age','fnlwgt', 'education_num','capital_gain','capital_loss','hours_per_week']\n",
    "# groupby_attributes=['workclass','education','occupation','relationship','race','sex','native_country','salary_range']\n",
    "# aggregate_functions=['sum','avg','max','min','count']\n",
    "\n",
    "measure_attributes=['age','capital_gain','hours_per_week']\n",
    "groupby_attributes=['workclass','relationship','sex']\n",
    "aggregate_functions=['avg','count']\n",
    "\n",
    "#Connecting with local db\n",
    "try:\n",
    "    conn = psycopg2.connect(f\"dbname='{dbname}' user='{user}' host='{host}' password='{password}'\")\n",
    "    cur = conn.cursor()\n",
    "except Exception as e:\n",
    "    print (f\"Unable to connect to the database. Error: {str(e)}\")\n",
    "\n",
    "#To get top k utility views\n",
    "K = 5"
   ]
  },
  {
   "cell_type": "markdown",
   "id": "a1548d0e",
   "metadata": {},
   "source": [
    "## Util functions"
   ]
  },
  {
   "cell_type": "code",
   "execution_count": 97,
   "id": "9d3fe181",
   "metadata": {},
   "outputs": [],
   "source": [
    "\n",
    "def get_cursor(conn):\n",
    "    cur = conn.cursor()\n",
    "    return cur\n",
    "\n",
    "def get_all_views(groupby_attributes, measure_attributes, aggregate_functions):\n",
    "    views = np.array(np.meshgrid(groupby_attributes, measure_attributes, aggregate_functions)).T.reshape(-1,3)\n",
    "    return views\n",
    "\n",
    "def query_generator(groupby_attribute, measure_attribute, aggregate_function, target_relation, reference_relation):\n",
    "    target_query = f\"\"\"SELECT {groupby_attribute}, {aggregate_function}({measure_attribute}) FROM {target_relation} GROUP BY {groupby_attribute}\"\"\"\n",
    "    reference_query = f\"\"\"SELECT {groupby_attribute}, {aggregate_function}({measure_attribute}) FROM {reference_relation} GROUP BY {groupby_attribute}\"\"\"\n",
    "    return target_query, reference_query\n",
    "\n",
    "def execute_get_query(cursor, query):\n",
    "    cursor.execute(query)\n",
    "    rows = cursor.fetchall()\n",
    "    return rows\n",
    "\n",
    "def get_key_based_values(target_result, reference_result):\n",
    "    key_set = set()\n",
    "    target_result_dict = {}\n",
    "    reference_result_dict = {}\n",
    "    final_target_values = []\n",
    "    final_reference_values = []\n",
    "    \n",
    "    for key, value in target_result:\n",
    "        key_set.add(key)\n",
    "        target_result_dict[key] = float(value)\n",
    "        \n",
    "    for key, value in reference_result:\n",
    "        key_set.add(key)\n",
    "        reference_result_dict[key] = float(value)\n",
    "        \n",
    "    for key in key_set:\n",
    "        final_target_values.append(target_result_dict.get(key, float(10e-20)) if target_result_dict.get(key, float(10e-20)) != 0.0 else float(10e-20))\n",
    "        final_reference_values.append(reference_result_dict.get(key, float(10e-20)) if reference_result_dict.get(key, float(10e-20)) != 0.0 else float(10e-20))\n",
    "    \n",
    "    return final_target_values, final_reference_values\n",
    "\n",
    "def calculate_kl_divergence(vector1, vector2):\n",
    "    return sum(vector1[i] * math.log2(vector1[i]/vector2[i]) for i in range(len(vector1)))\n",
    "\n",
    "def get_top_k_utility_views(kl_divergence_view_mapping_list, k):\n",
    "    top_k_views = [view for kl_divergence, view in sorted(kl_divergence_view_mapping_list)[0:k]]\n",
    "    return top_k_views\n"
   ]
  },
  {
   "cell_type": "markdown",
   "id": "f2e70970",
   "metadata": {},
   "source": [
    "## Getting user input and setting the target_db"
   ]
  },
  {
   "cell_type": "code",
   "execution_count": 38,
   "id": "6f8dc086",
   "metadata": {},
   "outputs": [],
   "source": [
    "#test_query = select * from adult where relationship =' Unmarried'; \n",
    "try:\n",
    "    query = input(\"Enter a SELECT query\")\n",
    "    #cur = get_cursor(conn)\n",
    "    cur.execute(f\"\"\"DROP table IF EXISTS {target_dataset};\"\"\")\n",
    "    print(f\"\"\"Target dataset create command: create table {target_dataset} as {query};\"\"\")\n",
    "    cur.execute(f\"\"\"create table {target_dataset} as {query};\"\"\")\n",
    "    conn.commit()\n",
    "except Exception as e:\n",
    "    print(f\"Error in establishing target db. Error: {str(e)}\")\n",
    "    \n",
    "print(f\"The reference dataset is {reference_dataset}\")"
   ]
  },
  {
   "cell_type": "code",
   "execution_count": 94,
   "id": "9e5ecd42",
   "metadata": {},
   "outputs": [],
   "source": [
    "def get_kl_divergence_mapping_list(views):\n",
    "    kl_divergence_view_mapping_list = []\n",
    "    for groupby_attribute, measure_attribute, aggregate_function in views:\n",
    "        target_query, reference_query = query_generator(groupby_attribute, measure_attribute, aggregate_function, target_dataset, reference_dataset)\n",
    "        target_result = execute_get_query(get_cursor(conn), target_query)\n",
    "        reference_result = execute_get_query(get_cursor(conn), reference_query)\n",
    "        target_values, reference_values = get_key_based_values(target_result, reference_result)        \n",
    "        kl_divergence = calculate_kl_divergence(target_values, reference_values)\n",
    "        kl_divergence_view_mapping_list.append((kl_divergence, (groupby_attribute, measure_attribute, aggregate_function)))\n",
    "        \n",
    "    return kl_divergence_view_mapping_list\n",
    "        \n",
    "views = get_all_views(groupby_attributes, measure_attributes, aggregate_functions)\n",
    "kl_divergence_view_mapping_list = get_kl_divergence_mapping_list(views)"
   ]
  },
  {
   "cell_type": "code",
   "execution_count": 100,
   "id": "82b5355e",
   "metadata": {},
   "outputs": [
    {
     "name": "stdout",
     "output_type": "stream",
     "text": [
      "[('workclass', 'age', 'count'), ('workclass', 'capital_gain', 'count'), ('workclass', 'hours_per_week', 'count'), ('sex', 'age', 'count'), ('sex', 'capital_gain', 'count')]\n"
     ]
    }
   ],
   "source": [
    "top_k_views = get_top_k_utility_views(kl_divergence_view_mapping_list,  K)\n",
    "print(top_k_views)"
   ]
  },
  {
   "cell_type": "code",
   "execution_count": null,
   "id": "f46b4b24",
   "metadata": {},
   "outputs": [],
   "source": []
  }
 ],
 "metadata": {
  "kernelspec": {
   "display_name": "Python 3",
   "language": "python",
   "name": "python3"
  },
  "language_info": {
   "codemirror_mode": {
    "name": "ipython",
    "version": 3
   },
   "file_extension": ".py",
   "mimetype": "text/x-python",
   "name": "python",
   "nbconvert_exporter": "python",
   "pygments_lexer": "ipython3",
   "version": "3.8.8"
  }
 },
 "nbformat": 4,
 "nbformat_minor": 5
}
