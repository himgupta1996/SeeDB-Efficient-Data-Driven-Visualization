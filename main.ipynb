{
 "cells": [
  {
   "cell_type": "markdown",
   "id": "82a407fd",
   "metadata": {},
   "source": [
    "## Imports"
   ]
  },
  {
   "cell_type": "code",
   "execution_count": null,
   "id": "b4dae0ae",
   "metadata": {},
   "outputs": [],
   "source": [
    "import psycopg2\n",
    "import numpy as np"
   ]
  },
  {
   "cell_type": "markdown",
   "id": "7564d716",
   "metadata": {},
   "source": [
    "## Setting up ENV and GLOBAL variables"
   ]
  },
  {
   "cell_type": "code",
   "execution_count": 56,
   "id": "6bd632d0",
   "metadata": {},
   "outputs": [],
   "source": [
    "\n",
    "dbname = \"census\"\n",
    "user = \"nightfury\"\n",
    "host = \"localhost\"\n",
    "password = \"\"\n",
    "db_relation = \"adult\"\n",
    "reference_dataset = db_relation\n",
    "target_dataset = \"target_dataset\"\n",
    "\n",
    "\n",
    "# measure_attributes=['age','fnlwgt', 'education_num','capital_gain','capital_loss','hours_per_week']\n",
    "# groupby_attributes=['workclass','education','occupation','relationship','race','sex','native_country','salary_range']\n",
    "# aggregate_functions=['sum','avg','max','min','count']\n",
    "\n",
    "measure_attributes=['age','capital_gain','hours_per_week']\n",
    "groupby_attributes=['workclass','relationship','sex']\n",
    "aggregate_functions=['avg','count']\n",
    "\n",
    "#Connecting with local db\n",
    "try:\n",
    "    conn = psycopg2.connect(f\"dbname='{dbname}' user='{user}' host='{host}' password='{password}'\")\n",
    "    cur = conn.cursor()\n",
    "except Exception as e:\n",
    "    print (f\"Unable to connect to the database. Error: {str(e)}\")"
   ]
  },
  {
   "cell_type": "markdown",
   "id": "b4763867",
   "metadata": {},
   "source": [
    "## Util functions"
   ]
  },
  {
   "cell_type": "code",
   "execution_count": 57,
   "id": "9d3fe181",
   "metadata": {},
   "outputs": [],
   "source": [
    "\n",
    "def get_cursor(conn):\n",
    "    cur = conn.cursor()\n",
    "    return cur\n",
    "\n",
    "def get_all_combinations(groupby_attributes, measure_attributes, aggregate_functions):\n",
    "    combinations = np.array(np.meshgrid(groupby_attributes, measure_attributes, aggregate_functions)).T.reshape(-1,3)\n",
    "    return combinations\n",
    "\n",
    "def query_generator(groupby_attribute, measure_attribute, aggregate_function, target_relation, reference_relation):\n",
    "    target_query = f\"\"\"SELECT {groupby_attribute}, {aggregate_function}({measure_attribute}) FROM {target_relation} GROUP BY {groupby_attribute}\"\"\"\n",
    "    reference_query = f\"\"\"SELECT {groupby_attribute}, {aggregate_function}({measure_attribute}) FROM {reference_relation} GROUP BY {groupby_attribute}\"\"\"\n",
    "    return target_query, reference_query\n",
    "\n",
    "def execute_get_query(cursor, query):\n",
    "    cursor.execute(query)\n",
    "    rows = cursor.fetchall()\n",
    "    return rows"
   ]
  },
  {
   "cell_type": "markdown",
   "id": "8c9e79dc",
   "metadata": {},
   "source": [
    "## Getting user input and setting the target_db"
   ]
  },
  {
   "cell_type": "code",
   "execution_count": 38,
   "id": "6f8dc086",
   "metadata": {},
   "outputs": [],
   "source": [
    "#test_query = select * from adult where relationship =' Unmarried'; \n",
    "try:\n",
    "    query = input(\"Enter a SELECT query\")\n",
    "    #cur = get_cursor(conn)\n",
    "    cur.execute(f\"\"\"DROP table IF EXISTS {target_dataset};\"\"\")\n",
    "    print(f\"\"\"Target dataset create command: create table {target_dataset} as {query};\"\"\")\n",
    "    cur.execute(f\"\"\"create table {target_dataset} as {query};\"\"\")\n",
    "    conn.commit()\n",
    "except Exception as e:\n",
    "    print(f\"Error in establishing target db. Error: {str(e)}\")\n",
    "    \n",
    "print(f\"The reference dataset is {reference_dataset}\")"
   ]
  },
  {
   "cell_type": "code",
   "execution_count": 58,
   "id": "a9a40e6a",
   "metadata": {},
   "outputs": [
    {
     "name": "stdout",
     "output_type": "stream",
     "text": [
      "SELECT workclass, avg(age) FROM target_dataset GROUP BY workclass\n",
      "SELECT workclass, avg(age) FROM adult GROUP BY workclass\n",
      "SELECT workclass, avg(capital_gain) FROM target_dataset GROUP BY workclass\n",
      "SELECT workclass, avg(capital_gain) FROM adult GROUP BY workclass\n",
      "SELECT workclass, avg(hours_per_week) FROM target_dataset GROUP BY workclass\n",
      "SELECT workclass, avg(hours_per_week) FROM adult GROUP BY workclass\n",
      "SELECT relationship, avg(age) FROM target_dataset GROUP BY relationship\n",
      "SELECT relationship, avg(age) FROM adult GROUP BY relationship\n",
      "SELECT relationship, avg(capital_gain) FROM target_dataset GROUP BY relationship\n",
      "SELECT relationship, avg(capital_gain) FROM adult GROUP BY relationship\n",
      "SELECT relationship, avg(hours_per_week) FROM target_dataset GROUP BY relationship\n",
      "SELECT relationship, avg(hours_per_week) FROM adult GROUP BY relationship\n",
      "SELECT sex, avg(age) FROM target_dataset GROUP BY sex\n",
      "SELECT sex, avg(age) FROM adult GROUP BY sex\n",
      "SELECT sex, avg(capital_gain) FROM target_dataset GROUP BY sex\n",
      "SELECT sex, avg(capital_gain) FROM adult GROUP BY sex\n",
      "SELECT sex, avg(hours_per_week) FROM target_dataset GROUP BY sex\n",
      "SELECT sex, avg(hours_per_week) FROM adult GROUP BY sex\n",
      "SELECT workclass, count(age) FROM target_dataset GROUP BY workclass\n",
      "SELECT workclass, count(age) FROM adult GROUP BY workclass\n",
      "SELECT workclass, count(capital_gain) FROM target_dataset GROUP BY workclass\n",
      "SELECT workclass, count(capital_gain) FROM adult GROUP BY workclass\n",
      "SELECT workclass, count(hours_per_week) FROM target_dataset GROUP BY workclass\n",
      "SELECT workclass, count(hours_per_week) FROM adult GROUP BY workclass\n",
      "SELECT relationship, count(age) FROM target_dataset GROUP BY relationship\n",
      "SELECT relationship, count(age) FROM adult GROUP BY relationship\n",
      "SELECT relationship, count(capital_gain) FROM target_dataset GROUP BY relationship\n",
      "SELECT relationship, count(capital_gain) FROM adult GROUP BY relationship\n",
      "SELECT relationship, count(hours_per_week) FROM target_dataset GROUP BY relationship\n",
      "SELECT relationship, count(hours_per_week) FROM adult GROUP BY relationship\n",
      "SELECT sex, count(age) FROM target_dataset GROUP BY sex\n",
      "SELECT sex, count(age) FROM adult GROUP BY sex\n",
      "SELECT sex, count(capital_gain) FROM target_dataset GROUP BY sex\n",
      "SELECT sex, count(capital_gain) FROM adult GROUP BY sex\n",
      "SELECT sex, count(hours_per_week) FROM target_dataset GROUP BY sex\n",
      "SELECT sex, count(hours_per_week) FROM adult GROUP BY sex\n"
     ]
    }
   ],
   "source": [
    "def run_views():\n",
    "    combinations = get_all_combinations(groupby_attributes, measure_attributes, aggregate_functions)\n",
    "    for groupby_attribute, measure_attribute, aggregate_function in combinations:\n",
    "        target_query, reference_query = query_generator(groupby_attribute, measure_attribute, aggregate_function, target_dataset, reference_dataset)\n",
    "        print(target_query)\n",
    "        print(reference_query)\n",
    "        \n",
    "run_views()"
   ]
  },
  {
   "cell_type": "code",
   "execution_count": null,
   "id": "b5aafc7f",
   "metadata": {},
   "outputs": [],
   "source": []
  }
 ],
 "metadata": {
  "kernelspec": {
   "display_name": "Python 3",
   "language": "python",
   "name": "python3"
  },
  "language_info": {
   "codemirror_mode": {
    "name": "ipython",
    "version": 3
   },
   "file_extension": ".py",
   "mimetype": "text/x-python",
   "name": "python",
   "nbconvert_exporter": "python",
   "pygments_lexer": "ipython3",
   "version": "3.8.8"
  }
 },
 "nbformat": 4,
 "nbformat_minor": 5
}
