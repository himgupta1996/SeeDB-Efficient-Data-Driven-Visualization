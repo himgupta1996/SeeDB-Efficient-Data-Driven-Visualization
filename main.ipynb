{
 "cells": [
  {
   "cell_type": "markdown",
   "id": "cross-installation",
   "metadata": {},
   "source": [
    "## Imports"
   ]
  },
  {
   "cell_type": "code",
   "execution_count": 56,
   "id": "f9e59f30",
   "metadata": {},
   "outputs": [],
   "source": [
    "import psycopg2\n",
    "from psycopg2 import connect, OperationalError, errorcodes, errors\n",
    "import numpy as np\n",
    "import math\n",
    "import sys\n",
    "from collections import defaultdict"
   ]
  },
  {
   "cell_type": "markdown",
   "id": "organic-personality",
   "metadata": {},
   "source": [
    "## Setting up ENV and GLOBAL variables"
   ]
  },
  {
   "cell_type": "code",
   "execution_count": 57,
   "id": "proprietary-killer",
   "metadata": {},
   "outputs": [
    {
     "name": "stdout",
     "output_type": "stream",
     "text": [
      "Connection to database successful\n"
     ]
    }
   ],
   "source": [
    "dbname = \"census\"\n",
    "user = \"nightfury\"\n",
    "host = \"localhost\"\n",
    "password = \"\"\n",
    "db_relation = \"adult\"\n",
    "reference_dataset = db_relation\n",
    "target_dataset = \"target_dataset\"\n",
    "\n",
    "\n",
    "# measure_attributes=['age','fnlwgt', 'education_num','capital_gain','capital_loss','hours_per_week']\n",
    "# groupby_attributes=['workclass','education','occupation','relationship','race','sex','native_country','salary_range']\n",
    "# aggregate_functions=['sum','avg','max','min','count']\n",
    "\n",
    "measure_attributes=['age','capital_gain','hours_per_week']\n",
    "groupby_attributes=['workclass','relationship','sex']\n",
    "aggregate_functions=['avg','count']\n",
    "\n",
    "#Connecting with local db\n",
    "try:\n",
    "    conn = psycopg2.connect(f\"dbname='{dbname}' user='{user}' host='{host}' password='{password}'\")\n",
    "    cur = conn.cursor()\n",
    "    print (\"Connection to database successful\")\n",
    "except OperationalError as err:\n",
    "    print_psycopg2_exception(err)\n",
    "    conn = None\n",
    "\n",
    "#To get top k utility views\n",
    "K = 5"
   ]
  },
  {
   "cell_type": "markdown",
   "id": "technical-polyester",
   "metadata": {},
   "source": [
    "## Util functions"
   ]
  },
  {
   "cell_type": "code",
   "execution_count": 66,
   "id": "painted-setting",
   "metadata": {},
   "outputs": [],
   "source": [
    "def print_psycopg2_exception(err):\n",
    "    # get details about the exception\n",
    "    err_type, err_obj, traceback = sys.exc_info()\n",
    "\n",
    "    # get the line number when exception occured\n",
    "    line_num = traceback.tb_lineno\n",
    "    \n",
    "    # print the connect() error\n",
    "    print (f\"\"\"\\npsycopg2 ERROR: {err} on linu number: {line_num}\"\"\")\n",
    "    print (f\"\"\"psycopg2 traceback: {traceback} -- type: {err_type}\"\"\")\n",
    "\n",
    "    # psycopg2 extensions.Diagnostics object attribute\n",
    "    print (f\"\"\"\\nextensions.Diagnostics: {err.diag}\"\"\")\n",
    "\n",
    "    # print the pgcode and pgerror exceptions\n",
    "    print (f\"\"\"pgerror: {err.pgerror}\"\"\")\n",
    "    print (f\"\"\"pgcode: {err.pgcode}\"\"\", \"\\n\")\n",
    "    \n",
    "def get_cursor(conn):\n",
    "    cur = conn.cursor()\n",
    "    return cur\n",
    "\n",
    "def get_all_views(groupby_attributes, measure_attributes, aggregate_functions):\n",
    "    views = np.array(np.meshgrid(groupby_attributes, measure_attributes, aggregate_functions)).T.reshape(-1,3)\n",
    "    return views\n",
    "\n",
    "def get_aggregate_function_measure_attribute_combinations(measure_attributes, aggregate_functions):\n",
    "    combinations = np.array(np.meshgrid(measure_attributes, aggregate_functions)).T.reshape(-1,2)\n",
    "    return combinations\n",
    "\n",
    "def get_combined_aggregate_query(groupby_attribute, measure_attributes, aggregate_functions, target_relation, reference_relation):\n",
    "    aggregate_function_measure_attribute_combinations = get_aggregate_function_measure_attribute_combinations(measure_attributes, aggregate_functions)\n",
    "    aggregate_function_measure_combined_string = ','.join([f'{combination[1]}({combination[0]})' for combination in aggregate_function_measure_attribute_combinations])\n",
    "    target_query, reference_query = combined_aggregate_query_generator(groupby_attribute, aggregate_function_measure_combined_string, target_relation, reference_relation)    \n",
    "    return target_query, reference_query\n",
    "\n",
    "def combined_aggregate_query_generator(groupby_attribute, aggregate_function_measure_combined_string, target_relation, reference_relation):\n",
    "    target_query = f\"\"\"SELECT {groupby_attribute}, {aggregate_function_measure_combined_string} FROM {target_relation} GROUP BY {groupby_attribute}\"\"\"\n",
    "    reference_query = f\"\"\"SELECT {groupby_attribute}, {aggregate_function_measure_combined_string} FROM {reference_relation} GROUP BY {groupby_attribute}\"\"\"\n",
    "    return target_query, reference_query\n",
    "    \n",
    "def basic_query_generator(groupby_attribute, measure_attribute, aggregate_function, target_relation, reference_relation):\n",
    "    target_query = f\"\"\"SELECT {groupby_attribute}, {aggregate_function}({measure_attribute}) FROM {target_relation} GROUP BY {groupby_attribute}\"\"\"\n",
    "    reference_query = f\"\"\"SELECT {groupby_attribute}, {aggregate_function}({measure_attribute}) FROM {reference_relation} GROUP BY {groupby_attribute}\"\"\"\n",
    "    return target_query, reference_query\n",
    "\n",
    "def phased_query_generator(groupby_attribute, measure_attribute, aggregate_function, target_relation, reference_relation, target_boundary, reference_boundary):\n",
    "    target_query = f\"\"\"SELECT {groupby_attribute}, {aggregate_function}({measure_attribute}) \n",
    "                        FROM (SELECT * from {target_relation} offset {target_boundary[0]} row fetch next {target_boundary[1]} rows only) as X  \n",
    "                        GROUP BY {groupby_attribute}\"\"\"\n",
    "    \n",
    "    reference_query = f\"\"\"SELECT {groupby_attribute}, {aggregate_function}({measure_attribute}) \n",
    "                        FROM (SELECT * from {reference_relation} offset {reference_boundary[0]} row fetch next {reference_boundary[1]} rows only) as X  \n",
    "                        GROUP BY {groupby_attribute}\"\"\"\n",
    "    \n",
    "    return target_query, reference_query\n",
    "\n",
    "def execute_get_query(cursor, query):\n",
    "    try:\n",
    "        cursor.execute(query)\n",
    "    except Exception as err:\n",
    "        print_psycopg2_exception(err)\n",
    "        conn = None\n",
    "        \n",
    "    rows = cursor.fetchall()\n",
    "    return rows\n",
    "\n",
    "def get_key_based_values(target_result, reference_result):\n",
    "    key_set = set()\n",
    "    target_result_dict = {}\n",
    "    reference_result_dict = {}\n",
    "    final_target_values = []\n",
    "    final_reference_values = []\n",
    "    \n",
    "    for key, value in target_result:\n",
    "        key_set.add(key)\n",
    "        target_result_dict[key] = float(value)\n",
    "        \n",
    "    for key, value in reference_result:\n",
    "        key_set.add(key)\n",
    "        reference_result_dict[key] = float(value)\n",
    "        \n",
    "    for key in key_set:\n",
    "        final_target_values.append(target_result_dict.get(key, float(10e-20)) if target_result_dict.get(key, float(10e-20)) != 0.0 else float(10e-20))\n",
    "        final_reference_values.append(reference_result_dict.get(key, float(10e-20)) if reference_result_dict.get(key, float(10e-20)) != 0.0 else float(10e-20))\n",
    "        \n",
    "    return final_target_values, final_reference_values\n",
    "    \n",
    "def get_valid_gropby_value(group_by_value):\n",
    "    if group_by_value == 0.0:\n",
    "        group_by_value = float(10e-20)\n",
    "    return float(group_by_value)\n",
    "    \n",
    "def get_aggregate_function_measure_attribute_based_values(target_result, reference_result, aggregate_function_measure_attribute_combinations):\n",
    "    \"\"\"\n",
    "    query example: SELECT workclass, avg(age),count(age),avg(capital_gain),count(capital_gain),avg(hours_per_week),count(hours_per_week) FROM target_dataset GROUP BY workclass\n",
    "    target_result example:\n",
    "    [('Self-emp-not-inc', Decimal('43.0000000000000000'), 1, Decimal('0E-20'), 1, Decimal('45.0000000000000000'), 1), \n",
    "    ('Private', Decimal('48.3333333333333333'), 3, Decimal('0E-20'), 3, Decimal('33.3333333333333333'), 3)]\n",
    "    \"\"\"\n",
    "    key_set = set()\n",
    "    target_result_dict = {}\n",
    "    reference_result_dict = {}\n",
    "    final_target_values = []\n",
    "    final_reference_values = []\n",
    "    no_combinations = len(aggregate_function_measure_attribute_combinations)\n",
    "    combination_value_dict = {}\n",
    "    \n",
    "    for values in target_result:\n",
    "        key_set.add(values[0])\n",
    "        target_result_dict[values[0]] = list(map(get_valid_gropby_value, values[1:]))\n",
    "        \n",
    "    for values in reference_result:\n",
    "        key_set.add(values[0])\n",
    "        reference_result_dict[values[0]] = list(map(get_valid_gropby_value, values[1:]))\n",
    "        \n",
    "    for i, combination in enumerate(aggregate_function_measure_attribute_combinations):\n",
    "        combination = tuple(combination)\n",
    "        combination_value_dict[combination] = {\"target_values\":[], \"reference_values\":[]}\n",
    "        for key in key_set:\n",
    "            target_value = target_result_dict.get(key, [float(10e-20)]*no_combinations)[i]\n",
    "            reference_value = reference_result_dict.get(key, [float(10e-20)]*no_combinations)[i]\n",
    "            \n",
    "            combination_value_dict[combination][\"target_values\"].append(target_value)\n",
    "            combination_value_dict[combination][\"reference_values\"].append(reference_value)\n",
    "            \n",
    "    return combination_value_dict\n",
    "\n",
    "def get_aggregate_function_measure_attribute_based_KL_divergence(aggregate_function_measure_attribute_based_values):\n",
    "    kl_divergence_dict = {}\n",
    "    for aggregate_function_measure_attribute_pair in aggregate_function_measure_attribute_based_values:\n",
    "        target_vector = aggregate_function_measure_attribute_based_values[aggregate_function_measure_attribute_pair]['target_values']\n",
    "        reference_vector = aggregate_function_measure_attribute_based_values[aggregate_function_measure_attribute_pair]['reference_values']\n",
    "        kl_divergence_dict[aggregate_function_measure_attribute_pair] = calculate_kl_divergence(target_vector, reference_vector)\n",
    "        \n",
    "    return kl_divergence_dict\n",
    "        \n",
    "def calculate_kl_divergence(vector1, vector2):\n",
    "    return sum(vector1[i] * math.log2(vector1[i]/vector2[i]) for i in range(len(vector1)))\n",
    "\n",
    "def basic_get_top_k_utility_views(kl_divergence_view_mapping_list, k):\n",
    "    top_k_views = [view for kl_divergence, view in sorted(kl_divergence_view_mapping_list)[0:k]]\n",
    "    return top_k_views\n",
    "\n",
    "def phased_get_top_k_utility_views(kl_divergence_view_mapping, k):\n",
    "    sorted_items = sorted(kl_divergence_view_mapping.items(), key=lambda kv: kv[1])[0:k]\n",
    "    return [item[0] for item in sorted_items]\n",
    "\n",
    "def get_phase_partitions(total_rows, phases):\n",
    "    return [total_rows // num_phases + (1 if x < total_rows % phases else 0) for x in range (phases)]\n"
   ]
  },
  {
   "cell_type": "markdown",
   "id": "located-pocket",
   "metadata": {},
   "source": [
    "## Getting user input and setting the target_db"
   ]
  },
  {
   "cell_type": "code",
   "execution_count": 59,
   "id": "magnetic-dating",
   "metadata": {},
   "outputs": [
    {
     "name": "stdout",
     "output_type": "stream",
     "text": [
      "Enter the attribute and associative value for the where clause seperated by space.relationship Unmarried\n",
      "Target dataset create command: create table target_dataset as select * from adult where relationship = 'Unmarried';\n",
      "Creation of target table successfull.\n",
      "The reference dataset is adult\n"
     ]
    }
   ],
   "source": [
    "#test_query = select * from adult where relationship =' Unmarried'; \n",
    "try:\n",
    "    attribute_value_input = input(\"Enter the attribute and associative value for the where clause seperated by space.\")\n",
    "    attribute, value = attribute_value_input.split(\" \")\n",
    "    query = f\"select * from adult where {attribute} = '{value}'\" \n",
    "    #cur = get_cursor(conn)\n",
    "    cur.execute(f\"\"\"DROP table IF EXISTS {target_dataset};\"\"\")\n",
    "    print(f\"\"\"Target dataset create command: create table {target_dataset} as {query};\"\"\")\n",
    "    cur.execute(f\"\"\"create table {target_dataset} as {query};\"\"\")\n",
    "    conn.commit()\n",
    "    print(f\"Creation of target table successfull.\")\n",
    "except Exception as err:\n",
    "    print(\"Error in establishing target db\")\n",
    "    print_psycopg2_exception(err)\n",
    "    conn = None\n",
    "    \n",
    "print(f\"The reference dataset is {reference_dataset}\")"
   ]
  },
  {
   "cell_type": "markdown",
   "id": "pointed-luxury",
   "metadata": {},
   "source": [
    "## Get all views"
   ]
  },
  {
   "cell_type": "code",
   "execution_count": 60,
   "id": "united-monte",
   "metadata": {},
   "outputs": [],
   "source": [
    "views = get_all_views(groupby_attributes, measure_attributes, aggregate_functions)"
   ]
  },
  {
   "cell_type": "markdown",
   "id": "permanent-bumper",
   "metadata": {},
   "source": [
    "## Basic Implementation"
   ]
  },
  {
   "cell_type": "code",
   "execution_count": 73,
   "id": "inclusive-milan",
   "metadata": {},
   "outputs": [],
   "source": [
    "def basic_implementation(views):\n",
    "    kl_divergence_view_mapping_list = []\n",
    "    for groupby_attribute, measure_attribute, aggregate_function in views:\n",
    "        target_query, reference_query = basic_query_generator(groupby_attribute, measure_attribute, aggregate_function, target_dataset, reference_dataset)\n",
    "        target_result = execute_get_query(get_cursor(conn), target_query)\n",
    "        reference_result = execute_get_query(get_cursor(conn), reference_query)\n",
    "        target_values, reference_values = get_key_based_values(target_result, reference_result)\n",
    "        kl_divergence = calculate_kl_divergence(target_values, reference_values)\n",
    "        kl_divergence_view_mapping_list.append((kl_divergence, (groupby_attribute, measure_attribute, aggregate_function)))\n",
    "    \n",
    "    return kl_divergence_view_mapping_list"
   ]
  },
  {
   "cell_type": "markdown",
   "id": "atmospheric-publicity",
   "metadata": {},
   "source": [
    "## Phased Implementation"
   ]
  },
  {
   "cell_type": "code",
   "execution_count": 76,
   "id": "durable-generation",
   "metadata": {},
   "outputs": [],
   "source": [
    "def phased_implementation(views):\n",
    "    num_phases = 3\n",
    "    target_dataset_rows = execute_get_query(get_cursor(conn), f\"\"\"select count(*) from {target_dataset};\"\"\")[0][0]\n",
    "    reference_dataset_rows = execute_get_query(get_cursor(conn), f\"\"\"select count(*) from {reference_dataset};\"\"\")[0][0]\n",
    "    target_dataset_partitions = get_phase_partitions(target_dataset_rows, num_phases)\n",
    "    reference_dataset_partitions = get_phase_partitions(reference_dataset_rows, num_phases)\n",
    "\n",
    "    # 13, 33\n",
    "    # 13 -> 5, 4, 4 [1, 2, 3, 4, 5], [6, 7, 8, 9], [10, 11, 12, 13]\n",
    "    # 33 -> 11, 11, 11\n",
    "    target_start = reference_start = 0\n",
    "    kl_divergence_view_mapping = defaultdict(int)\n",
    "    for phase in range(num_phases):\n",
    "        target_offset = target_dataset_partitions[phase]\n",
    "        reference_offset = reference_dataset_partitions[phase]\n",
    "        for groupby_attribute, measure_attribute, aggregate_function in views:\n",
    "            target_query, reference_query = phased_query_generator(groupby_attribute, measure_attribute, \n",
    "                                                            aggregate_function, target_dataset, \n",
    "                                                            reference_dataset, [target_start, target_offset], \n",
    "                                                            [reference_start, reference_offset])\n",
    "            \n",
    "            target_result = execute_get_query(get_cursor(conn), target_query)\n",
    "            reference_result = execute_get_query(get_cursor(conn), reference_query)\n",
    "            target_values, reference_values = get_key_based_values(target_result, reference_result)\n",
    "            curr_kl_divergence = calculate_kl_divergence(target_values, reference_values)\n",
    "            kl_divergence_view_mapping[(groupby_attribute, measure_attribute, aggregate_function)] = (kl_divergence_view_mapping[(groupby_attribute, measure_attribute, aggregate_function)]*phase + curr_kl_divergence) / (phase + 1)\n",
    "            \n",
    "        target_start += target_offset\n",
    "        reference_start += reference_offset\n",
    "        \n",
    "    return kl_divergence_view_mapping"
   ]
  },
  {
   "cell_type": "markdown",
   "id": "induced-nelson",
   "metadata": {},
   "source": [
    "## Final Result"
   ]
  },
  {
   "cell_type": "code",
   "execution_count": 77,
   "id": "nervous-distinction",
   "metadata": {},
   "outputs": [
    {
     "name": "stdout",
     "output_type": "stream",
     "text": [
      "[('workclass', 'age', 'count'), ('workclass', 'capital_gain', 'count'), ('workclass', 'hours_per_week', 'count'), ('sex', 'age', 'count'), ('sex', 'capital_gain', 'count')]\n"
     ]
    }
   ],
   "source": [
    "kl_divergence_view_mapping_list = basic_implementation(views)\n",
    "top_k_views = basic_get_top_k_utility_views(kl_divergence_view_mapping_list,  K)\n",
    "print(top_k_views)"
   ]
  },
  {
   "cell_type": "code",
   "execution_count": 78,
   "id": "sitting-injection",
   "metadata": {},
   "outputs": [
    {
     "ename": "NameError",
     "evalue": "name 'num_phases' is not defined",
     "output_type": "error",
     "traceback": [
      "\u001b[0;31m---------------------------------------------------------------------------\u001b[0m",
      "\u001b[0;31mNameError\u001b[0m                                 Traceback (most recent call last)",
      "\u001b[0;32m<ipython-input-78-1742ea33b960>\u001b[0m in \u001b[0;36m<module>\u001b[0;34m\u001b[0m\n\u001b[0;32m----> 1\u001b[0;31m \u001b[0mkl_divergence_view_mapping\u001b[0m \u001b[0;34m=\u001b[0m \u001b[0mphased_implementation\u001b[0m\u001b[0;34m(\u001b[0m\u001b[0mviews\u001b[0m\u001b[0;34m)\u001b[0m\u001b[0;34m\u001b[0m\u001b[0;34m\u001b[0m\u001b[0m\n\u001b[0m\u001b[1;32m      2\u001b[0m \u001b[0mtop_k_views\u001b[0m \u001b[0;34m=\u001b[0m \u001b[0mphased_get_top_k_utility_views\u001b[0m\u001b[0;34m(\u001b[0m\u001b[0mkl_divergence_view_mapping\u001b[0m\u001b[0;34m,\u001b[0m  \u001b[0mK\u001b[0m\u001b[0;34m)\u001b[0m\u001b[0;34m\u001b[0m\u001b[0;34m\u001b[0m\u001b[0m\n\u001b[1;32m      3\u001b[0m \u001b[0mprint\u001b[0m\u001b[0;34m(\u001b[0m\u001b[0mtop_k_views\u001b[0m\u001b[0;34m)\u001b[0m\u001b[0;34m\u001b[0m\u001b[0;34m\u001b[0m\u001b[0m\n",
      "\u001b[0;32m<ipython-input-76-3df5ca32b645>\u001b[0m in \u001b[0;36mphased_implementation\u001b[0;34m(views)\u001b[0m\n\u001b[1;32m      3\u001b[0m     \u001b[0mtarget_dataset_rows\u001b[0m \u001b[0;34m=\u001b[0m \u001b[0mexecute_get_query\u001b[0m\u001b[0;34m(\u001b[0m\u001b[0mget_cursor\u001b[0m\u001b[0;34m(\u001b[0m\u001b[0mconn\u001b[0m\u001b[0;34m)\u001b[0m\u001b[0;34m,\u001b[0m \u001b[0;34mf\"\"\"select count(*) from {target_dataset};\"\"\"\u001b[0m\u001b[0;34m)\u001b[0m\u001b[0;34m[\u001b[0m\u001b[0;36m0\u001b[0m\u001b[0;34m]\u001b[0m\u001b[0;34m[\u001b[0m\u001b[0;36m0\u001b[0m\u001b[0;34m]\u001b[0m\u001b[0;34m\u001b[0m\u001b[0;34m\u001b[0m\u001b[0m\n\u001b[1;32m      4\u001b[0m     \u001b[0mreference_dataset_rows\u001b[0m \u001b[0;34m=\u001b[0m \u001b[0mexecute_get_query\u001b[0m\u001b[0;34m(\u001b[0m\u001b[0mget_cursor\u001b[0m\u001b[0;34m(\u001b[0m\u001b[0mconn\u001b[0m\u001b[0;34m)\u001b[0m\u001b[0;34m,\u001b[0m \u001b[0;34mf\"\"\"select count(*) from {reference_dataset};\"\"\"\u001b[0m\u001b[0;34m)\u001b[0m\u001b[0;34m[\u001b[0m\u001b[0;36m0\u001b[0m\u001b[0;34m]\u001b[0m\u001b[0;34m[\u001b[0m\u001b[0;36m0\u001b[0m\u001b[0;34m]\u001b[0m\u001b[0;34m\u001b[0m\u001b[0;34m\u001b[0m\u001b[0m\n\u001b[0;32m----> 5\u001b[0;31m     \u001b[0mtarget_dataset_partitions\u001b[0m \u001b[0;34m=\u001b[0m \u001b[0mget_phase_partitions\u001b[0m\u001b[0;34m(\u001b[0m\u001b[0mtarget_dataset_rows\u001b[0m\u001b[0;34m,\u001b[0m \u001b[0mnum_phases\u001b[0m\u001b[0;34m)\u001b[0m\u001b[0;34m\u001b[0m\u001b[0;34m\u001b[0m\u001b[0m\n\u001b[0m\u001b[1;32m      6\u001b[0m     \u001b[0mreference_dataset_partitions\u001b[0m \u001b[0;34m=\u001b[0m \u001b[0mget_phase_partitions\u001b[0m\u001b[0;34m(\u001b[0m\u001b[0mreference_dataset_rows\u001b[0m\u001b[0;34m,\u001b[0m \u001b[0mnum_phases\u001b[0m\u001b[0;34m)\u001b[0m\u001b[0;34m\u001b[0m\u001b[0;34m\u001b[0m\u001b[0m\n\u001b[1;32m      7\u001b[0m \u001b[0;34m\u001b[0m\u001b[0m\n",
      "\u001b[0;32m<ipython-input-66-c1587f117896>\u001b[0m in \u001b[0;36mget_phase_partitions\u001b[0;34m(total_rows, phases)\u001b[0m\n\u001b[1;32m    148\u001b[0m \u001b[0;34m\u001b[0m\u001b[0m\n\u001b[1;32m    149\u001b[0m \u001b[0;32mdef\u001b[0m \u001b[0mget_phase_partitions\u001b[0m\u001b[0;34m(\u001b[0m\u001b[0mtotal_rows\u001b[0m\u001b[0;34m,\u001b[0m \u001b[0mphases\u001b[0m\u001b[0;34m)\u001b[0m\u001b[0;34m:\u001b[0m\u001b[0;34m\u001b[0m\u001b[0;34m\u001b[0m\u001b[0m\n\u001b[0;32m--> 150\u001b[0;31m     \u001b[0;32mreturn\u001b[0m \u001b[0;34m[\u001b[0m\u001b[0mtotal_rows\u001b[0m \u001b[0;34m//\u001b[0m \u001b[0mnum_phases\u001b[0m \u001b[0;34m+\u001b[0m \u001b[0;34m(\u001b[0m\u001b[0;36m1\u001b[0m \u001b[0;32mif\u001b[0m \u001b[0mx\u001b[0m \u001b[0;34m<\u001b[0m \u001b[0mtotal_rows\u001b[0m \u001b[0;34m%\u001b[0m \u001b[0mphases\u001b[0m \u001b[0;32melse\u001b[0m \u001b[0;36m0\u001b[0m\u001b[0;34m)\u001b[0m \u001b[0;32mfor\u001b[0m \u001b[0mx\u001b[0m \u001b[0;32min\u001b[0m \u001b[0mrange\u001b[0m \u001b[0;34m(\u001b[0m\u001b[0mphases\u001b[0m\u001b[0;34m)\u001b[0m\u001b[0;34m]\u001b[0m\u001b[0;34m\u001b[0m\u001b[0;34m\u001b[0m\u001b[0m\n\u001b[0m",
      "\u001b[0;32m<ipython-input-66-c1587f117896>\u001b[0m in \u001b[0;36m<listcomp>\u001b[0;34m(.0)\u001b[0m\n\u001b[1;32m    148\u001b[0m \u001b[0;34m\u001b[0m\u001b[0m\n\u001b[1;32m    149\u001b[0m \u001b[0;32mdef\u001b[0m \u001b[0mget_phase_partitions\u001b[0m\u001b[0;34m(\u001b[0m\u001b[0mtotal_rows\u001b[0m\u001b[0;34m,\u001b[0m \u001b[0mphases\u001b[0m\u001b[0;34m)\u001b[0m\u001b[0;34m:\u001b[0m\u001b[0;34m\u001b[0m\u001b[0;34m\u001b[0m\u001b[0m\n\u001b[0;32m--> 150\u001b[0;31m     \u001b[0;32mreturn\u001b[0m \u001b[0;34m[\u001b[0m\u001b[0mtotal_rows\u001b[0m \u001b[0;34m//\u001b[0m \u001b[0mnum_phases\u001b[0m \u001b[0;34m+\u001b[0m \u001b[0;34m(\u001b[0m\u001b[0;36m1\u001b[0m \u001b[0;32mif\u001b[0m \u001b[0mx\u001b[0m \u001b[0;34m<\u001b[0m \u001b[0mtotal_rows\u001b[0m \u001b[0;34m%\u001b[0m \u001b[0mphases\u001b[0m \u001b[0;32melse\u001b[0m \u001b[0;36m0\u001b[0m\u001b[0;34m)\u001b[0m \u001b[0;32mfor\u001b[0m \u001b[0mx\u001b[0m \u001b[0;32min\u001b[0m \u001b[0mrange\u001b[0m \u001b[0;34m(\u001b[0m\u001b[0mphases\u001b[0m\u001b[0;34m)\u001b[0m\u001b[0;34m]\u001b[0m\u001b[0;34m\u001b[0m\u001b[0;34m\u001b[0m\u001b[0m\n\u001b[0m",
      "\u001b[0;31mNameError\u001b[0m: name 'num_phases' is not defined"
     ]
    }
   ],
   "source": [
    "kl_divergence_view_mapping = phased_implementation(views)\n",
    "top_k_views = phased_get_top_k_utility_views(kl_divergence_view_mapping,  K)\n",
    "print(top_k_views)"
   ]
  },
  {
   "cell_type": "markdown",
   "id": "619c5b6e",
   "metadata": {},
   "source": [
    "## Shared Optimization"
   ]
  },
  {
   "cell_type": "code",
   "execution_count": 81,
   "id": "37378309",
   "metadata": {},
   "outputs": [],
   "source": [
    "kl_divergence_view_mapping_list = []\n",
    "aggregate_function_measure_attribute_combinations = get_aggregate_function_measure_attribute_combinations(measure_attributes, aggregate_functions)\n",
    "for groupby_attribute in groupby_attributes:\n",
    "    target_query, reference_query = get_combined_aggregate_query(groupby_attribute, measure_attributes, aggregate_functions, target_dataset, reference_dataset)\n",
    "    target_result = execute_get_query(get_cursor(conn), target_query)\n",
    "    reference_result = execute_get_query(get_cursor(conn), reference_query)\n",
    "    aggregate_function_measure_attribute_based_values = get_aggregate_function_measure_attribute_based_values(target_result, reference_result, aggregate_function_measure_attribute_combinations)\n",
    "    aggregate_function_measure_attribute_based_KL_divergence = get_aggregate_function_measure_attribute_based_KL_divergence(aggregate_function_measure_attribute_based_values)\n",
    "    for aggregate_function_measure_attribute_pair in aggregate_function_measure_attribute_based_KL_divergence:\n",
    "        kl_divergence = aggregate_function_measure_attribute_based_KL_divergence[aggregate_function_measure_attribute_pair]\n",
    "        kl_divergence_view_mapping_list.append((kl_divergence, (groupby_attribute, aggregate_function_measure_attribute_pair[0], aggregate_function_measure_attribute_pair[1])))"
   ]
  },
  {
   "cell_type": "code",
   "execution_count": 82,
   "id": "9fa9b9da",
   "metadata": {},
   "outputs": [
    {
     "data": {
      "text/plain": [
       "[('workclass', 'age', 'count'),\n",
       " ('workclass', 'capital_gain', 'count'),\n",
       " ('workclass', 'hours_per_week', 'count'),\n",
       " ('sex', 'age', 'count'),\n",
       " ('sex', 'capital_gain', 'count')]"
      ]
     },
     "execution_count": 82,
     "metadata": {},
     "output_type": "execute_result"
    }
   ],
   "source": [
    "top_k_views = basic_get_top_k_utility_views(kl_divergence_view_mapping_list,  K)\n",
    "top_k_views"
   ]
  },
  {
   "cell_type": "code",
   "execution_count": null,
   "id": "af97fc66",
   "metadata": {},
   "outputs": [],
   "source": []
  }
 ],
 "metadata": {
  "kernelspec": {
   "display_name": "Python 3",
   "language": "python",
   "name": "python3"
  },
  "language_info": {
   "codemirror_mode": {
    "name": "ipython",
    "version": 3
   },
   "file_extension": ".py",
   "mimetype": "text/x-python",
   "name": "python",
   "nbconvert_exporter": "python",
   "pygments_lexer": "ipython3",
   "version": "3.8.8"
  }
 },
 "nbformat": 4,
 "nbformat_minor": 5
}
